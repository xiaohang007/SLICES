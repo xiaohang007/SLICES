{
 "cells": [
  {
   "cell_type": "markdown",
   "id": "582b3e45",
   "metadata": {},
   "source": [
    "# Build training sets\n",
    "**!!! We strongly recommend using our Docker image for the setup of Jupyter backend.** \n",
    "**!!! If you choose not to use the Docker image, you'll need to install Slurm on your local machine, which can be tricky.** \n",
    "**!!! If you don't want to install the Slurm workload manager, you'll need to modify the code in utils.py, replacing 'qsub 0_run.pbs' with 'python 0_run.py' inside the splitRun function. Additionally, please ensure that the number of threads does not exceed the number of CPU threads on your computer. Exceeding this limit may lead to resource contention issues.**\n",
    "**!!! 优先使用我们提供的Docker镜像运行Jupyter后端.** \n",
    "**!!! 如果您不想使用Docker镜像，则需要在本机上安装Slurm任务管理系统，这可能会比较复杂。请注意，在运行Jupyter后端之前，需要完成Slurm的安装,否则计算会报错.** \n",
    "**!!! 如果您不想安装Slurm任务管理系统，那么需要修改utils.py的代码，在splitRun函数内部替换 qsub 0_run.pbs为 python 0_run.py，并且确认线程数不会超过电脑的cpu线程数量，否则会出现计算资源挤占的问题.** \n",
    "https://github.com/xiaohang007/SLICES?tab=readme-ov-file#jupyter-backend-setup"
   ]
  },
  {
   "cell_type": "code",
   "execution_count": 2,
   "id": "e0b72c84",
   "metadata": {
    "code_folding": [],
    "scrolled": true
   },
   "outputs": [
    {
     "name": "stdout",
     "output_type": "stream",
     "text": [
      "Computational tasks have been submitted.\n"
     ]
    },
    {
     "name": "stderr",
     "output_type": "stream",
     "text": [
      "     100%|███████████████| 100/100 [04:33<00:00,  2.73s/it]   \n"
     ]
    },
    {
     "name": "stdout",
     "output_type": "stream",
     "text": [
      "Results have been collected into: cifs_filtered.json\n",
      "Results have been collected into: mp20_eform_bandgap_nonmetal.csv\n",
      "\n",
      "原始数据行数: 14681\n",
      "清理后数据行数: 14681\n",
      "自动确定的bin数量: 63\n",
      "\n",
      "训练集分布:\n",
      "(0.0093, 0.0403]    0.015956\n",
      "(0.0403, 0.0746]    0.015870\n",
      "(0.0746, 0.121]     0.015870\n",
      "(0.121, 0.176]      0.015870\n",
      "(0.176, 0.226]      0.015870\n",
      "                      ...   \n",
      "(4.673, 4.935]      0.015870\n",
      "(4.935, 5.202]      0.015870\n",
      "(5.202, 5.62]       0.015870\n",
      "(5.62, 6.452]       0.015870\n",
      "(6.452, 17.902]     0.015956\n",
      "Name: proportion, Length: 63, dtype: float64\n",
      "\n",
      "测试集分布:\n",
      "(0.0093, 0.0403]    0.015873\n",
      "(0.0403, 0.0746]    0.015873\n",
      "(0.0746, 0.121]     0.015873\n",
      "(0.121, 0.176]      0.015873\n",
      "(0.176, 0.226]      0.015873\n",
      "                      ...   \n",
      "(4.673, 4.935]      0.015873\n",
      "(4.935, 5.202]      0.015873\n",
      "(5.202, 5.62]       0.015873\n",
      "(5.62, 6.452]       0.015873\n",
      "(6.452, 17.902]     0.015873\n",
      "Name: proportion, Length: 63, dtype: float64\n"
     ]
    }
   ],
   "source": [
    "%matplotlib inline\n",
    "from slices.utils import temporaryWorkingDirectory,splitRun,show_progress,collect_json,collect_csv,adaptive_dynamic_binning\n",
    "import os\n",
    "import pandas as pd\n",
    "import json\n",
    "import pandas as pd\n",
    "import numpy as np\n",
    "\n",
    "if __name__ == \"__main__\":\n",
    "    with temporaryWorkingDirectory(\"./data/mp20_nonmetal/\"):\n",
    "        output=[]\n",
    "        data_path_predix=\"../mp20/\"\n",
    "        data=pd.read_csv(data_path_predix+\"test.csv\")\n",
    "        cifs=list(data[\"cif\"])\n",
    "        ids=list(data[\"material_id\"])\n",
    "        eform=list(data[\"formation_energy_per_atom\"])\n",
    "        bandgap=list(data[\"band_gap\"])\n",
    "        for i in range(len(ids)):\n",
    "            output.append({\"material_id\":ids[i],\"formation_energy_per_atom\":eform[i],\"cif\":cifs[i],\"band_gap\":bandgap[i]})\n",
    "        data=pd.read_csv(data_path_predix+\"val.csv\")\n",
    "        cifs=list(data[\"cif\"])\n",
    "        ids=list(data[\"material_id\"])\n",
    "        eform=list(data[\"formation_energy_per_atom\"])\n",
    "        bandgap=list(data[\"band_gap\"])\n",
    "        for i in range(len(ids)):\n",
    "            output.append({\"material_id\":ids[i],\"formation_energy_per_atom\":eform[i],\"cif\":cifs[i],\"band_gap\":bandgap[i]})\n",
    "        data=pd.read_csv(data_path_predix+\"train.csv\")\n",
    "        cifs=list(data[\"cif\"])\n",
    "        ids=list(data[\"material_id\"])\n",
    "        eform=list(data[\"formation_energy_per_atom\"])\n",
    "        bandgap=list(data[\"band_gap\"])\n",
    "        for i in range(len(ids)):\n",
    "            output.append({\"material_id\":ids[i],\"formation_energy_per_atom\":eform[i],\"cif\":cifs[i],\"band_gap\":bandgap[i]})\n",
    "        with open('cifs.json', 'w') as f:\n",
    "            json.dump(output, f)\n",
    "        splitRun(filename='./cifs.json',threads=16,skip_header=False)\n",
    "        show_progress()\n",
    "        collect_json(output=\"cifs_filtered.json\", \\\n",
    "            glob_target=\"./**/output.json\",cleanup=False)\n",
    "        collect_csv(output=\"mp20_eform_bandgap_nonmetal.csv\", \\\n",
    "            glob_target=\"./**/result.csv\",cleanup=True,header=\"SLICES,eform,bandgap\\n\")\n",
    "        os.system(\"rm cifs.json\")\n",
    "        # 读取数据\n",
    "        data = pd.read_csv('mp20_eform_bandgap_nonmetal.csv')\n",
    "        target_column = data.columns[-1]  # 假设最后一列是目标值\n",
    "        \n",
    "        # 进行自适应动态分箱\n",
    "        train_data, test_data, bins = adaptive_dynamic_binning(data, target_column)\n",
    "        \n",
    "        # 检查分布\n",
    "        print(\"\\n训练集分布:\")\n",
    "        print(train_data[target_column].value_counts(bins=bins, normalize=True).sort_index())\n",
    "        print(\"\\n测试集分布:\")\n",
    "        print(test_data[target_column].value_counts(bins=bins, normalize=True).sort_index())\n",
    "        \n",
    "        # 保存分割后的数据\n",
    "        train_data.to_csv('train_data_reduce_zero.csv', index=False)\n",
    "        test_data.to_csv('test_data_reduce_zero.csv', index=False)"
   ]
  },
  {
   "cell_type": "markdown",
   "id": "1d8997fc",
   "metadata": {},
   "source": [
    "# Train MatterGPT for Single-Property Material Inverse Design (using formation energy as an example)\n",
    "<span style=\"color:red\">**CUDA in xiaohang07/slices Docker works on WSL@Windows 11 but may fail on Ubuntu; for Ubuntu, use host machine to train and generate SLICES with CrystalGPT.**</span>\n",
    "\n",
    "**Set --epochs 5 to speed up the test run.**\n",
    "\n",
    "**To accelerate the training process, consider adjusting the batch_size appropriately.**"
   ]
  },
  {
   "cell_type": "code",
   "execution_count": 1,
   "id": "38b5295e",
   "metadata": {
    "scrolled": true
   },
   "outputs": [
    {
     "name": "stdout",
     "output_type": "stream",
     "text": [
      "Co Co Co Co As As As As S S S S 0 9 ooo 0 6 ooo 0 4 ooo 0 8 ooo 0 11 oo- 0 5 ooo 1 4 ooo 1 10 ooo 1 6 o+o 1 11 ooo 1 7 o+o 1 8 o++ 2 5 --o 2 8 -oo 2 7 -oo 2 10 o-- 2 4 o-o 2 9 ooo 3 7 -oo 3 5 -oo 3 11 -oo 3 6 ooo 3 9 oo+ 3 10 ooo 4 8 o+o 5 9 +oo 6 11 ooo 7 10 +-o \n",
      "-0.6162958260416668\n",
      "Constructing vocabulary...\n",
      "Max length of slices:  392\n",
      "Number of characters: 130\n",
      "vocab_size: 132\n",
      "\n",
      "['+++', '++-', '++o', '+-+', '+--', '+-o', '+o+', '+o-', '+oo', '-++', '-+-', '-+o', '--+', '---', '--o', '-o+', '-o-', '-oo', '0', '1', '10', '11', '12', '13', '14', '15', '16', '17', '18', '19', '2', '3', '4', '5', '6', '7', '8', '9', '<', '>', 'Ag', 'Al', 'Ar', 'As', 'Au', 'B', 'Ba', 'Be', 'Bi', 'Br', 'C', 'Ca', 'Cd', 'Ce', 'Cl', 'Co', 'Cr', 'Cs', 'Cu', 'Dy', 'Er', 'Eu', 'F', 'Fe', 'Ga', 'Gd', 'Ge', 'H', 'He', 'Hf', 'Hg', 'Ho', 'I', 'In', 'Ir', 'K', 'Kr', 'La', 'Li', 'Lu', 'Mg', 'Mn', 'Mo', 'N', 'Na', 'Nb', 'Nd', 'Ne', 'Ni', 'O', 'Os', 'P', 'Pb', 'Pd', 'Pm', 'Pr', 'Pt', 'Rb', 'Re', 'Rh', 'Ru', 'S', 'Sb', 'Sc', 'Se', 'Si', 'Sm', 'Sn', 'Sr', 'Ta', 'Tb', 'Tc', 'Te', 'Ti', 'Tl', 'Tm', 'V', 'W', 'Xe', 'Y', 'Yb', 'Zn', 'Zr', 'o++', 'o+-', 'o+o', 'o-+', 'o--', 'o-o', 'oo+', 'oo-', 'ooo']\n",
      "132\n",
      "data has 11720 slices, 132 unique characters.\n",
      "data has 2961 slices, 132 unique characters.\n",
      "The number of trainable parameters is: 85562880\n"
     ]
    },
    {
     "name": "stderr",
     "output_type": "stream",
     "text": [
      "epoch 1 iter 976: train loss 0.29645. lr 3.032845e-04: 100%|██████████| 977/977 [04:49<00:00,  3.38it/s]\n"
     ]
    },
    {
     "name": "stdout",
     "output_type": "stream",
     "text": [
      "test loss: 0.43494602301825397 \n",
      "\n",
      "Saving at epoch 1 with best test loss: 0.43494602301825397\n"
     ]
    },
    {
     "name": "stderr",
     "output_type": "stream",
     "text": [
      "epoch 2 iter 976: train loss 0.37324. lr 2.219852e-04: 100%|██████████| 977/977 [04:48<00:00,  3.38it/s]\n"
     ]
    },
    {
     "name": "stdout",
     "output_type": "stream",
     "text": [
      "test loss: 0.3805821663454959 \n",
      "\n",
      "Saving at epoch 2 with best test loss: 0.3805821663454959\n"
     ]
    },
    {
     "name": "stderr",
     "output_type": "stream",
     "text": [
      "epoch 3 iter 976: train loss 0.32620. lr 1.180529e-04: 100%|██████████| 977/977 [04:48<00:00,  3.38it/s]\n"
     ]
    },
    {
     "name": "stdout",
     "output_type": "stream",
     "text": [
      "test loss: 0.3421307621214554 \n",
      "\n",
      "Saving at epoch 3 with best test loss: 0.3421307621214554\n"
     ]
    },
    {
     "name": "stderr",
     "output_type": "stream",
     "text": [
      "epoch 4 iter 976: train loss 0.47336. lr 3.300000e-05: 100%|██████████| 977/977 [04:48<00:00,  3.38it/s]\n"
     ]
    },
    {
     "name": "stdout",
     "output_type": "stream",
     "text": [
      "test loss: 0.3172908410852255 \n",
      "\n",
      "Saving at epoch 4 with best test loss: 0.3172908410852255\n"
     ]
    },
    {
     "name": "stderr",
     "output_type": "stream",
     "text": [
      "epoch 5 iter 976: train loss 0.27970. lr 3.300000e-05: 100%|██████████| 977/977 [04:49<00:00,  3.37it/s]\n"
     ]
    },
    {
     "name": "stdout",
     "output_type": "stream",
     "text": [
      "test loss: 0.3102713422736658 \n",
      "\n",
      "Saving at epoch 5 with best test loss: 0.3102713422736658\n"
     ]
    }
   ],
   "source": [
    "from slices.utils import temporaryWorkingDirectory\n",
    "import os\n",
    "with temporaryWorkingDirectory(\"./MatterGPT/eform/1_train_generate\"):\n",
    "    os.system('''\n",
    "    /bin/bash -c \"source /opt/conda/etc/profile.d/conda.sh && conda activate chgnet && \\\n",
    "    python train.py --run_name bandgap_Aug1 --batch_size 12 --num_props 1 --max_epochs 5 --n_embd 768  --n_layer 12 --n_head 12 --learning_rate 3.3e-4 \\\n",
    "    --train_dataset '../../../data/mp20_nonmetal/train_data_reduce_zero.csv' --test_dataset '../../../data/mp20_nonmetal/test_data_reduce_zero.csv' \"\n",
    "    ''')"
   ]
  },
  {
   "cell_type": "markdown",
   "id": "67ff1c75",
   "metadata": {},
   "source": [
    "# Generate SLICES strings with specified $E_{form}$ = [-1,-2,-3,-4]  eV/atom\n",
    "<span style=\"color:red\">**CUDA in xiaohang07/slices Docker works on WSL@Windows 11 but may fail on Ubuntu; for Ubuntu, use host machine to train and generate SLICES with CrystalGPT.**</span>\n",
    "\n",
    "**Set --gen_size 5 to speed up the test run.**\n",
    "\n",
    "**To accelerate the generation process, consider adjusting the batch_size appropriately.**"
   ]
  },
  {
   "cell_type": "code",
   "execution_count": 2,
   "id": "44c5226a",
   "metadata": {
    "scrolled": true
   },
   "outputs": [
    {
     "name": "stdout",
     "output_type": "stream",
     "text": [
      "Target 1 is : eform-1.0 eV/atom.\n",
      "Target 2 is : eform-2.0 eV/atom.\n",
      "Target 3 is : eform-3.0 eV/atom.\n",
      "Target 4 is : eform-4.0 eV/atom.\n",
      "./Voc_prior\n",
      "Loading model\n",
      "Model loaded\n"
     ]
    },
    {
     "name": "stderr",
     "output_type": "stream",
     "text": [
      "100%|██████████| 15/15 [01:48<00:00,  7.21s/it]\n",
      "100%|██████████| 15/15 [01:48<00:00,  7.25s/it]\n",
      " 53%|█████▎    | 8/15 [00:56<00:50,  7.26s/it]ERROR:root:Could not obtain the lattice basis from the cycle vectors!\n",
      "100%|██████████| 15/15 [01:45<00:00,  7.03s/it]\n",
      "100%|██████████| 15/15 [01:45<00:00,  7.01s/it]\n"
     ]
    },
    {
     "name": "stdout",
     "output_type": "stream",
     "text": [
      "Total generated SLICES: 112\n",
      "Unique canonical SLICES: 112\n",
      "Valid ratio: 0.933\n",
      "Unique ratio: 1.0\n"
     ]
    }
   ],
   "source": [
    "from slices.utils import temporaryWorkingDirectory\n",
    "import os\n",
    "with temporaryWorkingDirectory(\"./MatterGPT/eform/1_train_generate\"):\n",
    "    os.system('''\n",
    "    /bin/bash -c \"source /opt/conda/etc/profile.d/conda.sh && conda activate chgnet && \\\n",
    "    python generate.py --model_weight bandgap_Aug1.pt --prop_targets '[-1.0, -2.0,-3,-4]' --gen_size 30 --batch_size 2 --csv_name inverse_designed_SLICES --n_head 12\"\n",
    "    ''')"
   ]
  },
  {
   "cell_type": "markdown",
   "id": "e730a8ee",
   "metadata": {},
   "source": [
    "# Reconstruct crystals from SLICES, assess novelty, predict formation energy (CHGNet), and visualize"
   ]
  },
  {
   "cell_type": "code",
   "execution_count": 5,
   "id": "89d9fd23",
   "metadata": {
    "scrolled": true
   },
   "outputs": [
    {
     "name": "stdout",
     "output_type": "stream",
     "text": [
      "Computational tasks have been submitted.\n"
     ]
    },
    {
     "name": "stderr",
     "output_type": "stream",
     "text": [
      "     100%|███████████████| 100/100 [00:53<00:00,  1.88it/s]  \n"
     ]
    },
    {
     "name": "stdout",
     "output_type": "stream",
     "text": [
      "Results have been collected into: results.csv\n"
     ]
    },
    {
     "data": {
      "image/png": "[encoded data removed]",
      "text/plain": [
       "<Figure size 1200x600 with 4 Axes>"
      ]
     },
     "metadata": {},
     "output_type": "display_data"
    }
   ],
   "source": [
    "from slices.utils import temporaryWorkingDirectory,splitRun_csv,show_progress,collect_csv\n",
    "import os\n",
    "import glob\n",
    "from slices.utils import splitRun_csv, show_progress, collect_csv\n",
    "import pandas as pd\n",
    "import matplotlib.pyplot as plt\n",
    "from scipy.stats import norm\n",
    "import numpy as np\n",
    "import matplotlib.ticker as ticker\n",
    "import pickle,json\n",
    "from pymatgen.core.structure import Structure\n",
    "train_dataset_json='../../../data/mp20_nonmetal/cifs_filtered.json'\n",
    "train_dataset_csv=\"../../../data/mp20_nonmetal/train_data_reduce_zero.csv\"\n",
    "def load_and_save_structure_database():\n",
    "    # json file (including \"cif\") of training dataset for novelty check\n",
    "    with open(train_dataset_json, 'r') as f:\n",
    "        cifs = json.load(f)\n",
    "    structure_database = []\n",
    "    for i in range(len(cifs)):\n",
    "        cif_string = cifs[i][\"cif\"]\n",
    "        try:\n",
    "            stru = Structure.from_str(cif_string, \"cif\")\n",
    "            structure_database.append([stru, cifs[i][\"band_gap\"]])\n",
    "        except Exception as e:\n",
    "            print(e)\n",
    "    with open('structure_database.pkl', 'wb') as f:\n",
    "        pickle.dump(structure_database, f)\n",
    "def process_data():\n",
    "    load_and_save_structure_database()\n",
    "    splitRun_csv(filename='../1_train_generate/inverse_designed_SLICES.csv', threads=8, skip_header=True)\n",
    "    show_progress()\n",
    "    collect_csv(output=\"results.csv\",\n",
    "                glob_target=\"./job_*/result.csv\", cleanup=True,\n",
    "                header=\"eform_target,SLICES,eform_chgnet,poscar,novelty\\n\")\n",
    "def prepare_data(results_file, training_file):\n",
    "    results_1 = pd.read_csv(results_file)\n",
    "    trainingset = pd.read_csv(training_file, header=0)\n",
    "    \n",
    "    header_values = results_1.iloc[:, 0].tolist()\n",
    "    data_values = results_1.iloc[:, 2].tolist()\n",
    "    trainingset_values = trainingset.iloc[:, 1].tolist()\n",
    "    novelty_values = results_1.iloc[:, 4].tolist()\n",
    "    data_dict = {}\n",
    "    for header, value, novelty in zip(header_values, data_values, novelty_values):\n",
    "        if header not in data_dict:\n",
    "            data_dict[header] = {'all': [], 'novel': []}\n",
    "        data_dict[header]['all'].append(value)\n",
    "        if novelty == 1:\n",
    "            data_dict[header]['novel'].append(value)\n",
    "    sorted_keys = sorted(data_dict.keys(), reverse=True)\n",
    "    return data_dict, sorted_keys, trainingset_values\n",
    "def create_dataframe(data_dict, sorted_keys, trainingset_values, type='all'):\n",
    "    df = pd.DataFrame({k: pd.Series(data_dict[k][type], index=range(len(data_dict[k][type]))) for k in sorted_keys})\n",
    "    df = pd.concat([df, pd.Series(trainingset_values, name='training_dataset')], axis=1)\n",
    "    return df\n",
    "def plot_combined_histograms(all_data, novel_data, output_file):\n",
    "    num_cols = len(all_data.columns)\n",
    "    fig, axs = plt.subplots(num_cols, 2, figsize=(12, 3*num_cols), sharex=True)\n",
    "    bins = np.linspace(-6, 0, 50)\n",
    "    # Ensure axs is always 2D\n",
    "    if num_cols == 1:\n",
    "        axs = axs.reshape(1, -1)\n",
    "    for i, col_name in enumerate(all_data.columns):\n",
    "        for j, (data, title) in enumerate(zip([all_data, novel_data], ['All Materials', 'Novel Materials'])):\n",
    "            color = 'violet' if col_name == 'training_dataset' else 'lightblue'\n",
    "            axs[i, j].hist(data[col_name].dropna(), bins=bins, density=True, color=color, edgecolor='black', alpha=0.7)\n",
    "            mu, std = norm.fit(data[col_name].dropna())\n",
    "            axs[i, j].text(0.05, 0.95, f\"{col_name}\\n{title}\", transform=axs[i, j].transAxes, fontsize=8, va='top')\n",
    "            mean_val = data[col_name].mean()\n",
    "            axs[i, j].axvline(mean_val, color='red', linestyle='--', linewidth=1)\n",
    "            axs[i, j].text(mean_val, axs[i, j].get_ylim()[1]*0.9, f\"{mean_val:.2f}\", color='red', fontsize=6, ha='left')\n",
    "    for ax in axs.flat:\n",
    "        ax.set_xlim(-6, 0)\n",
    "        ax.tick_params(axis='both', which='major', labelsize=6)\n",
    "        ax.xaxis.set_major_locator(ticker.MultipleLocator(1))\n",
    "    fig.text(0.5, 0.02, 'Formation Energy (eV/atom)', ha='center', va='center', fontsize=10)\n",
    "    fig.text(0.02, 0.5, 'Density', ha='center', va='center', rotation='vertical', fontsize=10)\n",
    "    plt.subplots_adjust(hspace=0, wspace=0.1)\n",
    "    plt.tight_layout(rect=[0.03, 0.03, 1, 0.97])\n",
    "    plt.savefig(output_file, dpi=300, bbox_inches='tight')\n",
    "    return fig\n",
    "if __name__ == \"__main__\":\n",
    "    with temporaryWorkingDirectory(\"./MatterGPT/eform/2_inverse_eform_novelty\"):\n",
    "        process_data()\n",
    "        data_dict, sorted_keys, trainingset_values = prepare_data(\"results.csv\", train_dataset_csv)\n",
    "        # Process all materials\n",
    "        all_materials_df = create_dataframe(data_dict, sorted_keys, trainingset_values, 'all')\n",
    "        # Process novel materials\n",
    "        novel_materials_df = create_dataframe(data_dict, sorted_keys, trainingset_values, 'novel')\n",
    "        # Create and save the combined plot\n",
    "        fig = plot_combined_histograms(all_materials_df, novel_materials_df, \"combined_results.png\")\n",
    "        # Display the plot in Jupyter\n",
    "        display(fig)\n",
    "        plt.close(fig)"
   ]
  },
  {
   "cell_type": "markdown",
   "id": "3408073a",
   "metadata": {},
   "source": [
    "# Evaluate the formation energy distribution of the reconstructed crystals at PBE level (need workstation or even HPC to run VASP fastly)"
   ]
  },
  {
   "cell_type": "code",
   "execution_count": null,
   "id": "bd7a6878-c05d-4d70-8e4b-30d920f6446c",
   "metadata": {},
   "outputs": [],
   "source": [
    "```bash\n",
    "cd ./MatterGPT/eform/3_eform_DFT\n",
    "python 1_run.py\n",
    "# done\n",
    "```"
   ]
  },
  {
   "cell_type": "code",
   "execution_count": null,
   "id": "70447d29-a36c-4d20-802c-d8857ee49bf1",
   "metadata": {},
   "outputs": [],
   "source": []
  }
 ],
 "metadata": {
  "kernelspec": {
   "display_name": "Python 3 (ipykernel)",
   "language": "python",
   "name": "python3"
  },
  "language_info": {
   "codemirror_mode": {
    "name": "ipython",
    "version": 3
   },
   "file_extension": ".py",
   "mimetype": "text/x-python",
   "name": "python",
   "nbconvert_exporter": "python",
   "pygments_lexer": "ipython3",
   "version": "3.9.19"
  },
  "toc": {
   "base_numbering": 1,
   "nav_menu": {},
   "number_sections": true,
   "sideBar": true,
   "skip_h1_title": false,
   "title_cell": "Table of Contents",
   "title_sidebar": "Contents",
   "toc_cell": false,
   "toc_position": {},
   "toc_section_display": true,
   "toc_window_display": false
  },
  "widgets": {
   "application/vnd.jupyter.widget-state+json": {
    "state": {},
    "version_major": 2,
    "version_minor": 0
   }
  }
 },
 "nbformat": 4,
 "nbformat_minor": 5
}
